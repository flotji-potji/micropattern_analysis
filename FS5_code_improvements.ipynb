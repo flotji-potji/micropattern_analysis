{
 "cells": [
  {
   "cell_type": "markdown",
   "source": [
    "# Example Jupyter Notebook for micropattern (MP) image analysis"
   ],
   "metadata": {
    "collapsed": false
   },
   "id": "4114c70de42e7226"
  },
  {
   "cell_type": "code",
   "source": [
    "import matplotlib.pyplot as plt\n",
    "import numpy as np\n",
    "import imageio.v3 as iio\n",
    "import os\n",
    "\n",
    "import pandas as pd\n",
    "\n",
    "from support_functions import *\n",
    "from micropattern_analysis import *"
   ],
   "metadata": {
    "collapsed": true,
    "ExecuteTime": {
     "end_time": "2024-04-17T00:18:07.390700Z",
     "start_time": "2024-04-17T00:18:07.299701500Z"
    }
   },
   "id": "initial_id",
   "outputs": [],
   "execution_count": 1
  },
  {
   "cell_type": "markdown",
   "source": [
    "## Introduction to image analysis of MPs"
   ],
   "metadata": {
    "collapsed": false
   },
   "id": "cfde56bb2d6367dd"
  },
  {
   "cell_type": "code",
   "source": [
    "img_file = r\"D:\\OneDrive - Universität Wien\\Adameyko Lab\\FS3_MP\\fluorescence_images\\all_fates_pax6_isi12_sox10\\MP_ISTA_STAN_BMP4_800um_DAPI_pax6_555_sox10_647_isi12_488_2024_01_05__17_57_15.lsm\"\n",
    "\n",
    "image = iio.imread(img_file)"
   ],
   "metadata": {
    "collapsed": false
   },
   "id": "1086358ee60f1801",
   "outputs": [],
   "execution_count": null
  },
  {
   "cell_type": "markdown",
   "source": [
    "Here we can see that the images are stored as numpy arrays with multiple dimensions. Let's quickly break it down how the images are stored in a ```numpy``` matrix"
   ],
   "metadata": {
    "collapsed": false
   },
   "id": "dfe7942d97504b2f"
  },
  {
   "cell_type": "code",
   "source": [
    "print_image_dim_explanation()"
   ],
   "metadata": {
    "collapsed": false
   },
   "id": "acc7b7c22473381b",
   "outputs": [],
   "execution_count": null
  },
  {
   "cell_type": "markdown",
   "source": [
    "As we can see, our image is a multichannel image with multiple z-stacks. Where the first axis (dimension) corresponds to each z-stack with its corresponding channels. The second axis describes the different channels found in the image. The last two axis are responsible for storage of the pixel values of each channel and corresponding z-stack."
   ],
   "metadata": {
    "collapsed": false
   },
   "id": "7fe39ad8260a6dd0"
  },
  {
   "cell_type": "markdown",
   "source": [
    "Now, as we have seen our images contain z-stacks for which we are not interested in for our analysis. Therefore we can maximise the images to a single stack."
   ],
   "metadata": {
    "collapsed": false
   },
   "id": "9bd72d8bc6ae88b4"
  },
  {
   "cell_type": "code",
   "source": [
    "shape_old = image.shape\n",
    "shape_new = maximise_and_normalize(image).shape\n",
    "print(f'Original shape\\tvs.\\tnew shape')\n",
    "print(f'{shape_old}\\t->\\t{shape_new}')"
   ],
   "metadata": {
    "collapsed": false
   },
   "id": "3b3bab2704d0920",
   "outputs": [],
   "execution_count": null
  },
  {
   "cell_type": "markdown",
   "source": [
    "As we can see this effectively reduced one image dimension. And we can use this to override our current image."
   ],
   "metadata": {
    "collapsed": false
   },
   "id": "557a90284c8530ea"
  },
  {
   "cell_type": "code",
   "execution_count": null,
   "outputs": [],
   "source": [
    "image = maximise_and_normalize(image)"
   ],
   "metadata": {
    "collapsed": false
   },
   "id": "d3c17ec078571b8f"
  },
  {
   "cell_type": "markdown",
   "source": [
    "We can also visualize this through plotting all the images and stacks of the image and be able see the difference."
   ],
   "metadata": {
    "collapsed": false
   },
   "id": "ed5e21320ae43f5d"
  },
  {
   "cell_type": "code",
   "execution_count": null,
   "outputs": [],
   "source": [
    "# TODO: create function to plot all stacks and/or channels of one image"
   ],
   "metadata": {
    "collapsed": false
   },
   "id": "1581aa855a576230"
  },
  {
   "cell_type": "markdown",
   "source": [
    "Now we can start with the actual analysis. Here the following flow-diagram can be used to analyze MPs."
   ],
   "metadata": {
    "collapsed": false
   },
   "id": "66bb1fb8859ae2ed"
  },
  {
   "cell_type": "code",
   "execution_count": null,
   "outputs": [],
   "source": [
    "# TODO: plot flow diagram of MP analysis"
   ],
   "metadata": {
    "collapsed": false
   },
   "id": "e4be5fa7b5b322b3"
  },
  {
   "cell_type": "markdown",
   "source": [
    "TODO: add additional supporting information to diagram "
   ],
   "metadata": {
    "collapsed": false
   },
   "id": "f57cc90b571bd9ba"
  },
  {
   "cell_type": "markdown",
   "source": [
    "As the first step of analysis is to create a mask of the image by using the DAPI channel or any other which seems appropriate, we need to first decide on which method to choose. Here the general idea is to find a threshold and apply it to the channel of our choice (i.e. DAPI). In the toolbox we already have we can use an automatic threshold algorithm. Otsu's algorithm provides a good basis for our analysis and also can provide us with more than one thresholds. This can be useful if we want to exclude the background of our image. Below we can apply a Multi-Otsu algorithm to find multiple thresholds and compare their outputs.   "
   ],
   "metadata": {
    "collapsed": false
   },
   "id": "d25bb19acc6b4abf"
  },
  {
   "cell_type": "code",
   "execution_count": null,
   "outputs": [],
   "source": [
    "\"\"\"\n",
    "    Plot Multi-Otsu's threshold for our image with 4 different classes, which results in 3\n",
    "    thresholds\n",
    "\"\"\"\n",
    "plot_multi_otsu_thresholds(image, 4)"
   ],
   "metadata": {
    "collapsed": false
   },
   "id": "c7423e509d099583"
  },
  {
   "cell_type": "code",
   "source": [
    "# TODO: continue with introductory notebook sections"
   ],
   "metadata": {
    "collapsed": false
   },
   "id": "74509fcac9a7875e",
   "outputs": [],
   "execution_count": null
  },
  {
   "cell_type": "markdown",
   "source": [
    "## Streamlined image analysis through the usage of pipelines"
   ],
   "metadata": {
    "collapsed": false
   },
   "id": "de140f4ca172d76c"
  },
  {
   "cell_type": "markdown",
   "source": [
    "First we have to select a directory from which the images should be accessed. Here we could first set the directory - where our images are located - to our current working directory. This gives us the opportunity to expect the subdirectories or files which we may want to include or exclude from our analysis."
   ],
   "metadata": {
    "collapsed": false
   },
   "id": "18526a250e7c1f59"
  },
  {
   "cell_type": "code",
   "source": [
    "dir = r\"D:\\OneDrive - Universität Wien\\Adameyko Lab\\FS3_MP\\fluorescence_images\"\n",
    "os.chdir(dir)\n",
    "dirs = os.listdir(\".\")\n",
    "print(dirs)"
   ],
   "metadata": {
    "collapsed": false,
    "ExecuteTime": {
     "end_time": "2024-04-17T00:18:15.319473700Z",
     "start_time": "2024-04-17T00:18:15.284263100Z"
    }
   },
   "id": "7d989297ce3cb25",
   "outputs": [
    {
     "name": "stdout",
     "output_type": "stream",
     "text": [
      "['ab testing', 'all_fates_neg_ctr', 'all_fates_pax6_isi12_sox10', 'all_fates_six1_isi12_sox10', 'Lost and Found Florian']\n"
     ]
    }
   ],
   "execution_count": 2
  },
  {
   "cell_type": "markdown",
   "source": [
    "Here the selected directory contains some subdirectories which we are not interested in including. Therefore we can select specifically which directories to include into the list of paths."
   ],
   "metadata": {
    "collapsed": false
   },
   "id": "c535ee1e605ad9ff"
  },
  {
   "cell_type": "code",
   "source": [
    "dirs = dirs[2:4]\n",
    "print(dirs)"
   ],
   "metadata": {
    "collapsed": false,
    "ExecuteTime": {
     "end_time": "2024-04-17T00:18:16.762839Z",
     "start_time": "2024-04-17T00:18:16.724841700Z"
    }
   },
   "id": "cd76ccc60e776058",
   "outputs": [
    {
     "name": "stdout",
     "output_type": "stream",
     "text": [
      "['all_fates_pax6_isi12_sox10', 'all_fates_six1_isi12_sox10']\n"
     ]
    }
   ],
   "execution_count": 3
  },
  {
   "cell_type": "markdown",
   "source": [
    "Much better! With this done we can start loading our images into the notebook. For this and further actions with first have to import the custom script for analysis."
   ],
   "metadata": {
    "collapsed": false
   },
   "id": "941882f31ed7c654"
  },
  {
   "metadata": {
    "ExecuteTime": {
     "end_time": "2024-04-16T23:52:54.184410700Z",
     "start_time": "2024-04-16T23:52:52.831316400Z"
    }
   },
   "cell_type": "code",
   "outputs": [],
   "execution_count": 16,
   "source": [
    "# TODO: put code up to introduction\n",
    "image_dict = get_files_and_images(dirs)"
   ],
   "id": "9844f94e7bae5a7b"
  },
  {
   "cell_type": "code",
   "source": [
    "first_element_key = list(image_dict.keys())[0]\n",
    "first_element_value = image_dict.get(first_element_key)\n",
    "print(f'type of image_dict:\\t{type(image_dict)}')\n",
    "print(f'Number of images:\\t{len(image_dict.keys())}')\n",
    "print(f'First element of image_dict w/ values and types:')\n",
    "print(f'\\t\"{first_element_key}\"\\t{type(first_element_key)}')\n",
    "print(f'\\t{first_element_value.shape}\\t{type(first_element_value)}')"
   ],
   "metadata": {
    "collapsed": false
   },
   "id": "7126a4b3b65a21eb",
   "outputs": [],
   "execution_count": null
  },
  {
   "cell_type": "markdown",
   "source": [
    "As we can see the method ```get_files_and_images()``` returns a dictionary with the image file names as keys and the images as a values. As seen above we can maximise the images and normalize them in one go."
   ],
   "metadata": {
    "collapsed": false
   },
   "id": "1c226f8db00ac661"
  },
  {
   "metadata": {},
   "cell_type": "markdown",
   "source": [
    "If you want to \"untangle\" the images from their file names then following line can accomplish this. "
   ],
   "id": "b5fb2200be937715"
  },
  {
   "metadata": {
    "ExecuteTime": {
     "end_time": "2024-04-16T23:53:04.493924900Z",
     "start_time": "2024-04-16T23:53:04.348382300Z"
    }
   },
   "cell_type": "code",
   "outputs": [],
   "execution_count": 17,
   "source": [
    "file_names, images = zip(*image_dict.items())"
   ],
   "id": "c7cfae69ee9ebcc9"
  },
  {
   "metadata": {},
   "cell_type": "markdown",
   "source": [
    "And if you want to skip the ```image_dict``` step altogether, then we can directly call the ```get_files_and_images()``` function."
   ],
   "id": "2eb79b1b8f301614"
  },
  {
   "metadata": {
    "ExecuteTime": {
     "end_time": "2024-04-17T00:18:24.744082900Z",
     "start_time": "2024-04-17T00:18:23.324065100Z"
    }
   },
   "cell_type": "code",
   "source": [
    "file_names, images = zip(*get_files_and_images(dirs).items())"
   ],
   "id": "439674345818926f",
   "outputs": [],
   "execution_count": 4
  },
  {
   "cell_type": "markdown",
   "source": [
    "### Image Preprocessing"
   ],
   "metadata": {
    "collapsed": false
   },
   "id": "2f227e87cd6fd41e"
  },
  {
   "metadata": {
    "ExecuteTime": {
     "end_time": "2024-04-17T00:18:42.118747300Z",
     "start_time": "2024-04-17T00:18:27.395815900Z"
    }
   },
   "cell_type": "code",
   "source": [
    "from toolz import pipe\n",
    "\n",
    "dapi_num = 3\n",
    "\n",
    "v_new = list(map(\n",
    "    lambda x:\n",
    "    pipe(\n",
    "        x,\n",
    "        lambda f: maximise_and_normalize(f),\n",
    "        lambda f: apply_multiotsu_to_image(f, dapi_num),\n",
    "        lambda f: apply_multiotsu_to_channel(f, 0)\n",
    "    ),\n",
    "    images)\n",
    ")\n",
    "\n",
    "print(f'Original shape:\\t{images[0].shape}')\n",
    "print(f'New shape:\\t{v_new[0].shape}')"
   ],
   "id": "1e09d310dc10bc62",
   "outputs": [
    {
     "name": "stdout",
     "output_type": "stream",
     "text": [
      "Original shape:\t(3, 4, 1024, 1024)\n",
      "New shape:\t(4, 1024, 1024)\n"
     ]
    }
   ],
   "execution_count": 5
  },
  {
   "cell_type": "markdown",
   "source": [
    "### Image Processing"
   ],
   "metadata": {
    "collapsed": false
   },
   "id": "9e5908fa62321703"
  },
  {
   "cell_type": "code",
   "execution_count": 6,
   "outputs": [],
   "source": [
    "def gen_channel_names(file):\n",
    "    file_params = os.path.basename(file).split(\"_\")\n",
    "    channel_names = file_params[6:12][::2]\n",
    "    channel_names = list(map(lambda x: x.upper(), channel_names))\n",
    "    channel_names.append(\"DAPI\")\n",
    "    return channel_names\n",
    "\n",
    "\n",
    "def mp_type(file):\n",
    "    file_params = os.path.basename(file).split(\"_\")\n",
    "    return file_params[4:5]"
   ],
   "metadata": {
    "collapsed": false,
    "ExecuteTime": {
     "end_time": "2024-04-17T00:18:46.109741200Z",
     "start_time": "2024-04-17T00:18:46.081743200Z"
    }
   },
   "id": "b116ca9ab6318f04"
  },
  {
   "cell_type": "code",
   "execution_count": 7,
   "outputs": [],
   "source": [
    "df = []\n",
    "\n",
    "for file, img in zip(file_names, v_new):\n",
    "    df_mini = generate_data_frame(\n",
    "        expand_coordinate_matrix(img[dapi_num]),\n",
    "        img,\n",
    "        gen_channel_names(file),\n",
    "        Distances=get_distances(img[dapi_num])\n",
    "    )\n",
    "    df_mini = scale_distances(df_mini, file=file)\n",
    "    df_mini = group_distances(df_mini, gen_channel_names(file))\n",
    "    df_mini[\"MP Type\"] = np.repeat(mp_type(file), df_mini.shape[0])\n",
    "    df.append(df_mini)\n",
    "\n",
    "df = pd.concat(df)"
   ],
   "metadata": {
    "collapsed": false,
    "ExecuteTime": {
     "end_time": "2024-04-17T00:19:01.616546Z",
     "start_time": "2024-04-17T00:18:49.329455700Z"
    }
   },
   "id": "363555f09305d7a6"
  },
  {
   "cell_type": "code",
   "execution_count": 15,
   "outputs": [
    {
     "ename": "TypeError",
     "evalue": "<lambda>() missing 1 required positional argument: 'y'",
     "output_type": "error",
     "traceback": [
      "\u001B[1;31m---------------------------------------------------------------------------\u001B[0m",
      "\u001B[1;31mTypeError\u001B[0m                                 Traceback (most recent call last)",
      "Cell \u001B[1;32mIn[15], line 1\u001B[0m\n\u001B[1;32m----> 1\u001B[0m \u001B[38;5;28;43mlist\u001B[39;49m\u001B[43m(\u001B[49m\u001B[38;5;28;43mmap\u001B[39;49m\u001B[43m(\u001B[49m\n\u001B[0;32m      2\u001B[0m \u001B[43m    \u001B[49m\u001B[38;5;28;43;01mlambda\u001B[39;49;00m\u001B[43m \u001B[49m\u001B[43mx\u001B[49m\u001B[43m,\u001B[49m\u001B[43m \u001B[49m\u001B[43my\u001B[49m\u001B[43m:\u001B[49m\u001B[43m \u001B[49m\u001B[38;5;28;43mprint\u001B[39;49m\u001B[43m(\u001B[49m\u001B[43mx\u001B[49m\u001B[43m,\u001B[49m\u001B[43m \u001B[49m\u001B[43my\u001B[49m\u001B[43m)\u001B[49m\u001B[43m,\u001B[49m\n\u001B[0;32m      3\u001B[0m \u001B[43m    \u001B[49m\u001B[43m(\u001B[49m\u001B[43m[\u001B[49m\u001B[38;5;241;43m1\u001B[39;49m\u001B[43m,\u001B[49m\u001B[38;5;241;43m2\u001B[39;49m\u001B[43m,\u001B[49m\u001B[38;5;241;43m3\u001B[39;49m\u001B[43m]\u001B[49m\u001B[43m,\u001B[49m\u001B[43m \u001B[49m\u001B[43m[\u001B[49m\u001B[38;5;241;43m4\u001B[39;49m\u001B[43m,\u001B[49m\u001B[38;5;241;43m5\u001B[39;49m\u001B[43m,\u001B[49m\u001B[38;5;241;43m6\u001B[39;49m\u001B[43m]\u001B[49m\u001B[43m)\u001B[49m\n\u001B[0;32m      4\u001B[0m \u001B[43m)\u001B[49m\u001B[43m)\u001B[49m\n",
      "\u001B[1;31mTypeError\u001B[0m: <lambda>() missing 1 required positional argument: 'y'"
     ]
    }
   ],
   "source": [],
   "metadata": {
    "collapsed": false,
    "ExecuteTime": {
     "end_time": "2024-04-16T23:11:59.433831300Z",
     "start_time": "2024-04-16T23:11:59.329834400Z"
    }
   },
   "id": "d556a46bf136691c"
  }
 ],
 "metadata": {
  "kernelspec": {
   "display_name": "Python 3",
   "language": "python",
   "name": "python3"
  },
  "language_info": {
   "codemirror_mode": {
    "name": "ipython",
    "version": 2
   },
   "file_extension": ".py",
   "mimetype": "text/x-python",
   "name": "python",
   "nbconvert_exporter": "python",
   "pygments_lexer": "ipython2",
   "version": "2.7.6"
  }
 },
 "nbformat": 4,
 "nbformat_minor": 5
}
