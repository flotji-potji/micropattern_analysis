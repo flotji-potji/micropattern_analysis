{
 "cells": [
  {
   "cell_type": "markdown",
   "source": [
    "# Example Jupyter Notebook for micropattern (MP) image analysis"
   ],
   "metadata": {
    "collapsed": false
   },
   "id": "4114c70de42e7226"
  },
  {
   "cell_type": "code",
   "outputs": [],
   "source": [
    "from support_functions import *\n",
    "from micropattern_analysis import *\n",
    "import imageio.v3 as iio\n",
    "import os"
   ],
   "metadata": {
    "collapsed": true,
    "ExecuteTime": {
     "end_time": "2024-04-04T13:18:49.172742Z",
     "start_time": "2024-04-04T13:18:49.164231Z"
    }
   },
   "id": "initial_id",
   "execution_count": 11
  },
  {
   "cell_type": "markdown",
   "source": [
    "## Introduction to image analysis of MPs"
   ],
   "metadata": {
    "collapsed": false
   },
   "id": "cfde56bb2d6367dd"
  },
  {
   "cell_type": "code",
   "outputs": [],
   "source": [
    "img_file = r\"C:\\Users\\flori\\OneDrive - Universität Wien\\Adameyko Lab\\FS3_MP\\fluorescence_images\\all_fates_pax6_isi12_sox10\\MP_ISTA_STAN_BMP4_800um_DAPI_pax6_555_sox10_647_isi12_488_2024_01_05__17_57_15.lsm\"\n",
    "\n",
    "image = iio.imread(img_file)"
   ],
   "metadata": {
    "collapsed": false
   },
   "id": "1086358ee60f1801"
  },
  {
   "cell_type": "code",
   "outputs": [
    {
     "name": "stdout",
     "output_type": "stream",
     "text": [
      "(3, 4, 1024, 1024)\n",
      " |  |    |     |  \n",
      " |  |    +-----+-- X & Y 'coordinates' of image\n",
      " |  +------------- channels of image\n",
      " +---------------- z-stacks of image\n"
     ]
    }
   ],
   "source": [
    "print_image_dim_explanation()"
   ],
   "metadata": {
    "collapsed": false,
    "ExecuteTime": {
     "end_time": "2024-04-04T12:36:24.938772Z",
     "start_time": "2024-04-04T12:36:24.933986Z"
    }
   },
   "id": "acc7b7c22473381b",
   "execution_count": 6
  },
  {
   "cell_type": "markdown",
   "source": [
    "As we can see, our image is a multichannel image with multiple z-stacks. Where the first axis (dimension) corresponds to each z-stack with its corresponding channels. The second axis describes the different channels found in the image. The last two axis are responsible for storage of the pixel values of each channel and corresponding z-stack."
   ],
   "metadata": {
    "collapsed": false
   },
   "id": "7fe39ad8260a6dd0"
  },
  {
   "cell_type": "markdown",
   "source": [
    "Now, as we have seen our images contain z-stacks for which we are not interested in for our analysis. Therefore we can maximise the images to a single stack."
   ],
   "metadata": {
    "collapsed": false
   },
   "id": "9bd72d8bc6ae88b4"
  },
  {
   "cell_type": "code",
   "outputs": [
    {
     "name": "stdout",
     "output_type": "stream",
     "text": [
      "Original shape\tvs.\tnew shape\n",
      "(3, 4, 1024, 1024)\t->\t(4, 1024, 1024)\n"
     ]
    }
   ],
   "source": [
    "shape_old = image.shape\n",
    "shape_new = maximise_and_normalize(image).shape\n",
    "print(f'Original shape\\tvs.\\tnew shape')\n",
    "print(f'{shape_old}\\t->\\t{shape_new}')"
   ],
   "metadata": {
    "collapsed": false,
    "ExecuteTime": {
     "end_time": "2024-04-04T12:49:13.868454Z",
     "start_time": "2024-04-04T12:49:13.838788Z"
    }
   },
   "id": "3b3bab2704d0920",
   "execution_count": 10
  },
  {
   "cell_type": "markdown",
   "source": [
    "As we can see this effectively reduced one image dimension."
   ],
   "metadata": {
    "collapsed": false
   },
   "id": "557a90284c8530ea"
  },
  {
   "cell_type": "code",
   "outputs": [],
   "source": [
    "# TODO: continue with introductory notebook sections"
   ],
   "metadata": {
    "collapsed": false
   },
   "id": "74509fcac9a7875e"
  },
  {
   "cell_type": "markdown",
   "source": [
    "## Streamlined image analysis through the usage of pipelines"
   ],
   "metadata": {
    "collapsed": false
   },
   "id": "de140f4ca172d76c"
  },
  {
   "cell_type": "markdown",
   "source": [
    "First we have to select a directory from which the images should be accessed. Here we could first set the directory - where our images are located - to our current working directory. This gives us the opportunity to expect the subdirectories or files which we may want to include or exclude from our analysis."
   ],
   "metadata": {
    "collapsed": false
   },
   "id": "18526a250e7c1f59"
  },
  {
   "cell_type": "code",
   "outputs": [
    {
     "name": "stdout",
     "output_type": "stream",
     "text": [
      "['ab testing', 'all_fates_neg_ctr', 'all_fates_pax6_isi12_sox10', 'all_fates_six1_isi12_sox10', 'Lost and Found Florian']\n"
     ]
    }
   ],
   "source": [
    "dir = r\"C:\\Users\\flori\\OneDrive - Universität Wien\\Adameyko Lab\\FS3_MP\\fluorescence_images\"\n",
    "os.chdir(dir)\n",
    "dirs = os.listdir(\".\")\n",
    "print(dirs)"
   ],
   "metadata": {
    "collapsed": false,
    "ExecuteTime": {
     "end_time": "2024-04-04T12:36:14.492872Z",
     "start_time": "2024-04-04T12:36:14.485613Z"
    }
   },
   "id": "7d989297ce3cb25",
   "execution_count": 2
  },
  {
   "cell_type": "markdown",
   "source": [
    "Here the selected directory contains some subdirectories which we are not interested in including. Therefore we can select specifically which directories to include into the list of paths."
   ],
   "metadata": {
    "collapsed": false
   },
   "id": "c535ee1e605ad9ff"
  },
  {
   "cell_type": "code",
   "outputs": [
    {
     "name": "stdout",
     "output_type": "stream",
     "text": [
      "['all_fates_pax6_isi12_sox10', 'all_fates_six1_isi12_sox10']\n"
     ]
    }
   ],
   "source": [
    "dirs = dirs[2:4]\n",
    "print(dirs)"
   ],
   "metadata": {
    "collapsed": false,
    "ExecuteTime": {
     "end_time": "2024-04-04T12:36:15.788135Z",
     "start_time": "2024-04-04T12:36:15.781825Z"
    }
   },
   "id": "cd76ccc60e776058",
   "execution_count": 3
  },
  {
   "cell_type": "markdown",
   "source": [
    "Much better! With this done we can start loading our images into the notebook. For this and further actions with first have to import the custom script for analysis."
   ],
   "metadata": {
    "collapsed": false
   },
   "id": "941882f31ed7c654"
  },
  {
   "cell_type": "code",
   "outputs": [],
   "source": [
    "image_dict = glue_files_and_images(dirs)"
   ],
   "metadata": {
    "collapsed": false,
    "ExecuteTime": {
     "end_time": "2024-04-04T12:36:19.396873Z",
     "start_time": "2024-04-04T12:36:17.369101Z"
    }
   },
   "id": "439674345818926f",
   "execution_count": 4
  },
  {
   "cell_type": "code",
   "outputs": [
    {
     "name": "stdout",
     "output_type": "stream",
     "text": [
      "type of image_dict:\t<class 'dict'>\n",
      "Number of images:\t42\n",
      "First element of image_dict w/ values and types:\n",
      "\t\"all_fates_pax6_isi12_sox10\\MP_ISTA_STAN_BMP4_800um_DAPI_pax6_555_sox10_647_isi12_488_2024_01_05__17_57_15.lsm\"\t<class 'str'>\n",
      "\t(3, 4, 1024, 1024)\t<class 'numpy.ndarray'>\n"
     ]
    }
   ],
   "source": [
    "first_element_key = list(image_dict.keys())[0]\n",
    "first_element_value = image_dict.get(first_element_key)\n",
    "print(f'type of image_dict:\\t{type(image_dict)}')\n",
    "print(f'Number of images:\\t{len(image_dict.keys())}')\n",
    "print(f'First element of image_dict w/ values and types:')\n",
    "print(f'\\t\"{first_element_key}\"\\t{type(first_element_key)}')\n",
    "print(f'\\t{first_element_value.shape}\\t{type(first_element_value)}')"
   ],
   "metadata": {
    "collapsed": false,
    "ExecuteTime": {
     "end_time": "2024-04-04T12:36:20.435279Z",
     "start_time": "2024-04-04T12:36:20.429015Z"
    }
   },
   "id": "7126a4b3b65a21eb",
   "execution_count": 5
  },
  {
   "cell_type": "markdown",
   "source": [
    "As we can see the method ```glue_files_and_images()``` returns a dictionary with the image file names as keys and the images as a values. Here we can see that the images are stored as numpy arrays with multiple dimensions. Let's quickly break it down how the images are stored in a ```numpy``` matrix"
   ],
   "metadata": {
    "collapsed": false
   },
   "id": "1c226f8db00ac661"
  },
  {
   "cell_type": "code",
   "outputs": [],
   "source": [],
   "metadata": {
    "collapsed": false
   },
   "id": "debfe4149d74840a"
  }
 ],
 "metadata": {
  "kernelspec": {
   "display_name": "Python 3",
   "language": "python",
   "name": "python3"
  },
  "language_info": {
   "codemirror_mode": {
    "name": "ipython",
    "version": 2
   },
   "file_extension": ".py",
   "mimetype": "text/x-python",
   "name": "python",
   "nbconvert_exporter": "python",
   "pygments_lexer": "ipython2",
   "version": "2.7.6"
  }
 },
 "nbformat": 4,
 "nbformat_minor": 5
}
