{
 "cells": [
  {
   "cell_type": "markdown",
   "source": [
    "# FS3 - MP analysis of all normally induced fates"
   ],
   "metadata": {
    "collapsed": false
   },
   "id": "c2d4f1e4411af3ed"
  },
  {
   "cell_type": "code",
   "execution_count": null,
   "outputs": [],
   "source": [
    "import os\n",
    "\n",
    "dir = r\"C:\\Users\\flori\\OneDrive - Universität Wien\\Adameyko Lab\\FS3_MP\\fluorescence_images\"\n",
    "os.chdir(dir)\n",
    "dirs = os.listdir(\".\")\n",
    "print(dirs)"
   ],
   "metadata": {
    "collapsed": false
   },
   "id": "f2183f7bdb8f6476"
  },
  {
   "cell_type": "code",
   "execution_count": null,
   "outputs": [],
   "source": [
    "dirs = dirs[2:4]\n",
    "print(dirs)"
   ],
   "metadata": {
    "collapsed": false
   },
   "id": "e86dccedf64a62d6"
  },
  {
   "cell_type": "code",
   "execution_count": null,
   "outputs": [],
   "source": [
    "from micropattern_analysis import *\n",
    "import skimage.filters as filters\n",
    "import skimage.exposure as exp\n",
    "import matplotlib.pyplot as plt\n",
    "import seaborn as sns\n",
    "import numpy as np\n",
    "import pandas as pd"
   ],
   "metadata": {
    "collapsed": false
   },
   "id": "9d506780b7c12677"
  },
  {
   "cell_type": "code",
   "execution_count": null,
   "outputs": [],
   "source": [
    "\"\"\"\n",
    "    (common/custom\n",
    "\"\"\"\n",
    "images = {}\n",
    "dapi_channel_number = 3\n",
    "frames = []\n",
    "\"\"\"\n",
    "    common/custom)\n",
    "\"\"\""
   ],
   "metadata": {
    "collapsed": false
   },
   "id": "ff46cf9a7e2009b5"
  },
  {
   "cell_type": "code",
   "outputs": [],
   "source": [
    "im = iio.imread(next(gather_files(dirs))).max(axis=0)\n",
    "\n",
    "colors = \"jet\"\n",
    "fig, ax = plt.subplots(ncols=4, nrows=4, figsize=(15, 20))\n",
    "for i in range(4):\n",
    "    thresholds = filters.threshold_multiotsu(im[i], classes=3)\n",
    "    regions = np.digitize(im[i], bins=thresholds)\n",
    "    applied = (im[i] > thresholds[0]) * im[i]\n",
    "    ax[i][0].imshow(im[i], cmap=colors)\n",
    "    ax[i][0].set_title('Original')\n",
    "    ax[i][0].axis('off')\n",
    "    ax[i][1].imshow(regions, cmap=colors)\n",
    "    ax[i][1].set_title('Triangle thresholding mask')\n",
    "    ax[i][1].axis('off')\n",
    "    ax[i][2].imshow(applied, cmap=colors)\n",
    "    ax[i][2].set_title('Triangle thresholding applied')\n",
    "    ax[i][2].axis('off')\n",
    "    ax[i][3].hist(applied.ravel(), bins=50, color=\"blue\")\n",
    "plt.show()"
   ],
   "metadata": {
    "collapsed": false
   },
   "id": "3d7dce8fcdfa5353",
   "execution_count": null
  },
  {
   "cell_type": "code",
   "outputs": [],
   "source": [
    "filters.try_all_threshold(im[1])"
   ],
   "metadata": {
    "collapsed": false
   },
   "id": "40956c67a56083ee",
   "execution_count": null
  },
  {
   "cell_type": "code",
   "outputs": [],
   "source": [
    "plt.hist(im[3].ravel(), bins=200)\n",
    "plt.show()"
   ],
   "metadata": {
    "collapsed": false
   },
   "id": "d861b23114cf3db9",
   "execution_count": null
  },
  {
   "cell_type": "code",
   "execution_count": null,
   "outputs": [],
   "source": [
    "\"\"\"\n",
    "    (common\n",
    "\"\"\"\n",
    "for file in gather_files(dirs):\n",
    "    img = iio.imread(file)\n",
    "    img = maximise_img_channels(img, bits=1)\n",
    "\n",
    "    images.update({file: img})\n",
    "\n",
    "    dapi_img = img[dapi_channel_number]\n",
    "    img_mask = create_img_mask(img, dapi_img, threshold_triangle)\n",
    "    applied_img_mask = apply_img_mask(img, img_mask)\n",
    "    new_applied_img_mask = applied_img_mask.copy()\n",
    "    for channel_num in range(dapi_channel_number):\n",
    "        thresholds = filters.threshold_multiotsu(applied_img_mask[channel_num], classes=3)\n",
    "        new_applied_img_mask[channel_num] = (applied_img_mask[channel_num] > thresholds[1]) * applied_img_mask[channel_num]\n",
    "    center_of_mass = get_center_of_mass(img_mask, dapi_img)\n",
    "    cords = expand_coordinate_matrix(dapi_img)\n",
    "    \n",
    "    dist = calculate_distances(cords, center_of_mass)\n",
    "    \"\"\"\n",
    "        common)\n",
    "    \"\"\"\n",
    "    \"\"\"\n",
    "        (custom\n",
    "    \"\"\"\n",
    "    file_params = os.path.basename(file).split(\"_\")\n",
    "    channel_names = file_params[6:12][::2]\n",
    "    channel_names = list(map(lambda x: x.upper(), channel_names))\n",
    "    channel_names.append(\"DAPI\")\n",
    "    mp_type = file_params[4:5]\n",
    "    b = np.repeat(mp_type, len(dist))\n",
    "    \"\"\"\n",
    "        custom)\n",
    "    \"\"\"\n",
    "    \"\"\"\n",
    "        (common\n",
    "    \"\"\"\n",
    "    a = np.repeat(center_of_mass, len(dist))\n",
    "    \"\"\"\n",
    "        common)\n",
    "    \"\"\"\n",
    "    \"\"\"\n",
    "        (custom\n",
    "    \"\"\"\n",
    "    if \"PAX6\" in channel_names:\n",
    "        \"\"\"\n",
    "            (common parts\n",
    "        \"\"\"\n",
    "        df_mini = generate_data_frame(cords,\n",
    "                                  applied_img_mask, \n",
    "                                  channel_names,\n",
    "                                  Distances=dist,\n",
    "                                  Center_of_Mass_x=np.repeat(center_of_mass[0], len(dist)),\n",
    "                                  Center_of_Mass_y=np.repeat(center_of_mass[1], len(dist)),\n",
    "                                  PAX6new=applied_img_mask[0].ravel(),\n",
    "                                  SOX10new=applied_img_mask[1].ravel(),\n",
    "                                  ISI12new=applied_img_mask[2].ravel())\n",
    "        \"\"\"\n",
    "            common parts)\n",
    "        \"\"\"\n",
    "    else:\n",
    "        df_mini = generate_data_frame(cords,\n",
    "                                  applied_img_mask, \n",
    "                                  channel_names,\n",
    "                                  Distances=dist,\n",
    "                                  Center_of_Mass_x=np.repeat(center_of_mass[0], len(dist)),\n",
    "                                  Center_of_Mass_y=np.repeat(center_of_mass[1], len(dist)),\n",
    "                                  SIX1new=applied_img_mask[0].ravel(),\n",
    "                                  SOX10new=applied_img_mask[1].ravel(),\n",
    "                                  ISI12new=applied_img_mask[2].ravel())\n",
    "    \"\"\"\n",
    "        custom)\n",
    "    \"\"\"\n",
    "    \"\"\"\n",
    "        (common/custom\n",
    "    \"\"\"\n",
    "    img_props = iio.improps(file)\n",
    "    img_meta = iio.immeta(file)\n",
    "    if img_props.spacing:\n",
    "        mean_res = np.mean(1 / np.array(img_props.spacing))\n",
    "    elif img_meta[\"ScanInformation\"][\"SampleSpacing\"]:\n",
    "        mean_res = img_meta[\"ScanInformation\"][\"SampleSpacing\"]\n",
    "    else:\n",
    "        mean_res = 1\n",
    "\n",
    "    df_mini = scale_distances(df_mini, mean_res)\n",
    "    \"\"\"\"\n",
    "        common/custom)\n",
    "    \"\"\"\n",
    "    \"\"\"\n",
    "        (custom\n",
    "    \"\"\"\n",
    "    df_mini = group_distances(df_mini, channel_names)\n",
    "    \n",
    "    #df_mini = smooth_distances(df_mini, channel_names, sigma=5)\n",
    "    df_mini[\"MP Type\"] = np.repeat(mp_type, df_mini.shape[0])\n",
    "    \"\"\"\n",
    "        custom)\n",
    "    \"\"\"\n",
    "    frames.append(df_mini)"
   ],
   "metadata": {
    "collapsed": false
   },
   "id": "48c2936e30c4c190"
  },
  {
   "cell_type": "code",
   "execution_count": null,
   "outputs": [],
   "source": [
    "\"\"\"\n",
    "    (common\n",
    "\"\"\"\n",
    "df = pd.concat(frames)\n",
    "\"\"\"\n",
    "    common)\n",
    "\"\"\""
   ],
   "metadata": {
    "collapsed": false
   },
   "id": "4fe4f0a67f9c8af5"
  },
  {
   "cell_type": "code",
   "outputs": [],
   "source": [
    "fig, (a, b) = plt.subplots(2, 1, figsize=(10, 10))\n",
    "\n",
    "densities = df[(df[\"Distances\"] < 400)].filter((\"PAX6\", \"ISI12\", \"SOX10\", \"SIX1\", \"MP Type\"))\n",
    "densities.set_index(\"MP Type\")\n",
    "densities = densities.reset_index()\n",
    "densities = pd.melt(densities, id_vars=\"MP Type\", value_vars=[\"PAX6\", \"ISI12\", \"SOX10\", \"SIX1\"])\n",
    "sns.violinplot(densities[densities[\"value\"] > 0], y=\"value\", x=\"variable\", hue=\"MP Type\", ax=a)\n",
    "\n",
    "densities = df[(df[\"Distances\"] < 400)].filter((\"PAX6new\", \"ISI12new\", \"SOX10new\", \"SIX1new\", \"MP Type\"))\n",
    "densities.set_index(\"MP Type\")\n",
    "densities = densities.reset_index()\n",
    "densities = pd.melt(densities, id_vars=\"MP Type\", value_vars=[\"PAX6new\", \"ISI12new\", \"SOX10new\", \"SIX1new\"])\n",
    "sns.violinplot(densities[densities[\"value\"] > 0], y=\"value\", x=\"variable\", hue=\"MP Type\", ax=b)"
   ],
   "metadata": {
    "collapsed": false
   },
   "id": "69d5fa65efdbfc82",
   "execution_count": null
  },
  {
   "cell_type": "code",
   "outputs": [],
   "source": [
    "import matplotlib.ticker as ticker\n",
    "\n",
    "\n",
    "def plot_mp_types(pattern_size_order=(\"800um\", \"900um\", \"stencil\"),\n",
    "                  staining_order=(\"PAX6\", \"SIX1\", \"SOX10\", \"ISI12\")):\n",
    "    ticks = ticker.FuncFormatter(lambda x, pos: '{0:g}'.format(round(x * mean_res)))\n",
    "    staining_order = list(map(str.lower, staining_order))\n",
    "    img_map = {\n",
    "        \"pax6\": 0,\n",
    "        \"six1\": 0,\n",
    "        \"sox10\": 1,\n",
    "        \"isi12\": 2\n",
    "    }\n",
    "    pos_map = {\n",
    "        \"800um\": 800,\n",
    "        \"900um\": 900,\n",
    "        \"stencil\": 900\n",
    "    }\n",
    "\n",
    "    (fig, axes) = plt.subplots(len(channel_names) * 2, 3, figsize=(35, 20))\n",
    "    for i, so in zip(range(len(axes)), list(np.repeat(staining_order, 2))):\n",
    "        if i % 2 == 0:\n",
    "            cur_so = [f for f in images.keys() if so in f]\n",
    "            for axi, pos in zip(axes[i], pattern_size_order):\n",
    "                cur_pos = [f for f in cur_so if pos in f]\n",
    "                key = np.random.choice(cur_pos)\n",
    "                img = images.get(key)[img_map.get(so)]\n",
    "                im = axi.imshow(img, cmap=\"jet\")\n",
    "                #axi.set_ylabel(channel_names[i])\n",
    "                #ax.xaxis.set_major_formatter(ticks)\n",
    "                #ax.yaxis.set_major_formatter(ticks)\n",
    "                #pos = fig.add_axes([0.93, 0.1, 0.02, 0.35])\n",
    "                #fig.colorbar(im, cax=pos)\n",
    "                axi.set_title(pos) if i == 0 else None\n",
    "        else:\n",
    "            for axi, pos in zip(axes[i], pattern_size_order):\n",
    "                df_sub = df[df[\"MP Type\"] == pos]\n",
    "                df_sub.reset_index(inplace=True)\n",
    "                g = sns.lineplot(df_sub, x=\"Distances\", y=f'{so.upper()}new', ax=axi)\n",
    "                axi.set_xlim(0, pos_map.get(pos)/2)\n",
    "                #axi.set_ylim(0, 1)\n",
    "                axi.set_ylabel(\"Average Intensity [au]\") if pos == pattern_size_order[0] else None\n",
    "                axi.set_xlabel(\"\")\n",
    "                pos = axi.get_position()\n",
    "                axi.text(pos.x0-0.25, pos.y0+0.25, so.upper()) if pos == pattern_size_order[0] else None\n",
    "    fig.supxlabel(\"Distance [µm]\")\n",
    "    plt.grid(False)\n",
    "    plt.subplots_adjust(left=0.25)\n",
    "    plt.show()"
   ],
   "metadata": {
    "collapsed": false
   },
   "id": "afb9de55080676d6",
   "execution_count": null
  },
  {
   "cell_type": "code",
   "execution_count": null,
   "outputs": [],
   "source": [
    "plot_mp_types()"
   ],
   "metadata": {
    "collapsed": false
   },
   "id": "3f89e768ea9a3a63"
  },
  {
   "cell_type": "code",
   "execution_count": null,
   "outputs": [],
   "source": [
    "df[df[\"MP Type\"] == \"800um\"].groupby(\"Distances\").count()"
   ],
   "metadata": {
    "collapsed": false
   },
   "id": "f81f530396050f71"
  },
  {
   "cell_type": "code",
   "outputs": [],
   "source": [
    "from matplotlib.patches import Circle\n",
    "from matplotlib.patches import Rectangle\n",
    "\n",
    "fig, ax = plt.subplots(6, 3, figsize=(7, 10))\n",
    "keys = list(images.keys())[:9]\n",
    "bar_width = 200\n",
    "bar_padding = 50\n",
    "\n",
    "for i in range(6):\n",
    "    if i%2 == 0:\n",
    "        for j in range(3):\n",
    "            im = images.get(keys[i+j])[0]\n",
    "            heatmap = ax[i][j].imshow(im, cmap=\"jet\")\n",
    "            fig.colorbar(heatmap, ax=ax[i][j], location=\"left\") if j == 0 else None\n",
    "            circ = Circle((500,500), 400, fill=False, linewidth=0.7, edgecolor=\"white\", linestyle=\"dashed\")\n",
    "            rec = Rectangle((im.shape[0] - (bar_width + bar_padding), im.shape[]))\n",
    "            ax[i][j].add_patch(circ)\n",
    "            ax[i][j].axis(\"off\")\n",
    "    else:\n",
    "        for j in range(3):\n",
    "            ax[i][j].plot(np.linspace(0, 1), np.sin(np.linspace(0,1)))\n",
    "            asp = np.diff(ax[i][j].get_xlim())[0] / np.diff(ax[i][j].get_ylim())[0]\n",
    "            ax[i][j].set_aspect(asp)\n",
    "plt.show()"
   ],
   "metadata": {
    "collapsed": false
   },
   "id": "d3f360143db13f2",
   "execution_count": null
  }
 ],
 "metadata": {
  "kernelspec": {
   "display_name": "Python 3",
   "language": "python",
   "name": "python3"
  },
  "language_info": {
   "codemirror_mode": {
    "name": "ipython",
    "version": 2
   },
   "file_extension": ".py",
   "mimetype": "text/x-python",
   "name": "python",
   "nbconvert_exporter": "python",
   "pygments_lexer": "ipython2",
   "version": "2.7.6"
  }
 },
 "nbformat": 4,
 "nbformat_minor": 5
}
